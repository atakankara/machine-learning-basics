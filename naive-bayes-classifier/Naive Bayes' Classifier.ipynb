{
 "cells": [
  {
   "cell_type": "code",
   "execution_count": 1,
   "metadata": {},
   "outputs": [],
   "source": [
    "from matplotlib import pyplot as plt\n",
    "import numpy as np\n",
    "import math\n",
    "import scipy.linalg as linalg\n",
    "from pandas import crosstab\n",
    "\n",
    "def safelog(x):\n",
    "    return np.log(x + 1e-100)"
   ]
  },
  {
   "cell_type": "code",
   "execution_count": 2,
   "metadata": {},
   "outputs": [],
   "source": [
    "data_set_images = np.genfromtxt(\"images.csv\", delimiter = \",\")\n",
    "data_set_labels = np.genfromtxt(\"abels.csv\", delimiter = \"\\n\")"
   ]
  },
  {
   "cell_type": "code",
   "execution_count": 3,
   "metadata": {},
   "outputs": [],
   "source": [
    "x_train = data_set_images[0:200,:]\n",
    "y_train = data_set_labels[0:200].astype(int)\n",
    "\n",
    "N = x_train.shape[0]\n",
    "K = np.max(y_train)\n",
    "D = x_train.shape[1]"
   ]
  },
  {
   "cell_type": "code",
   "execution_count": 4,
   "metadata": {},
   "outputs": [],
   "source": [
    "x_test = data_set_images[200:,:]\n",
    "y_test = data_set_labels[200:].astype(int)"
   ]
  },
  {
   "cell_type": "code",
   "execution_count": 5,
   "metadata": {},
   "outputs": [],
   "source": [
    "means = np.array((np.mean(x_train[y_train == 1], axis = 0),\n",
    "                  np.mean(x_train[y_train == 2], axis = 0))).T"
   ]
  },
  {
   "cell_type": "code",
   "execution_count": 6,
   "metadata": {},
   "outputs": [],
   "source": [
    "deviations = np.array((np.std(x_train[y_train == 1], axis = 0),\n",
    "                       np.std(x_train[y_train == 2], axis = 0))).T"
   ]
  },
  {
   "cell_type": "code",
   "execution_count": 7,
   "metadata": {},
   "outputs": [],
   "source": [
    "priors = [np.mean(y_train == (c+1)) for c in range(K)]"
   ]
  },
  {
   "cell_type": "code",
   "execution_count": 8,
   "metadata": {},
   "outputs": [],
   "source": [
    "def score_function(x):\n",
    "    return [np.log(priors[c]) - (D/2)*np.log(2*math.pi) - np.sum(safelog(deviations[:,c]))  \n",
    "            - np.sum(((x - means[:,c])**2) / (2*(deviations[:,c]**2))) for c in range(K)]"
   ]
  },
  {
   "cell_type": "code",
   "execution_count": 9,
   "metadata": {},
   "outputs": [],
   "source": [
    "y_train_scores = [score_function(x) for x in x_train]\n",
    "y_train_predictions = np.argmax(y_train_scores, axis = 1) + 1"
   ]
  },
  {
   "cell_type": "code",
   "execution_count": 10,
   "metadata": {},
   "outputs": [
    {
     "name": "stdout",
     "output_type": "stream",
     "text": [
      "y_hat     1    2\n",
      "y_train         \n",
      "1        18    2\n",
      "2        24  156\n"
     ]
    }
   ],
   "source": [
    "print(crosstab(y_train, y_train_predictions, rownames=[\"y_train\"], colnames=[\"y_hat\"]))"
   ]
  },
  {
   "cell_type": "code",
   "execution_count": 11,
   "metadata": {},
   "outputs": [],
   "source": [
    "y_test_scores = [score_function(x) for x in x_test]\n",
    "y_test_predictions = np.argmax(y_test_scores, axis = 1) + 1"
   ]
  },
  {
   "cell_type": "code",
   "execution_count": 12,
   "metadata": {},
   "outputs": [
    {
     "name": "stdout",
     "output_type": "stream",
     "text": [
      "y_hat    1    2\n",
      "y_test         \n",
      "1       15    5\n",
      "2       19  161\n"
     ]
    }
   ],
   "source": [
    "print(crosstab(y_test, y_test_predictions,  rownames=[\"y_test\"], colnames=[\"y_hat\"]))"
   ]
  }
 ],
 "metadata": {
  "kernelspec": {
   "display_name": "Python 3",
   "language": "python",
   "name": "python3"
  },
  "language_info": {
   "codemirror_mode": {
    "name": "ipython",
    "version": 3
   },
   "file_extension": ".py",
   "mimetype": "text/x-python",
   "name": "python",
   "nbconvert_exporter": "python",
   "pygments_lexer": "ipython3",
   "version": "3.8.5"
  }
 },
 "nbformat": 4,
 "nbformat_minor": 4
}
