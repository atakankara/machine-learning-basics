{
 "cells": [
  {
   "cell_type": "code",
   "execution_count": 129,
   "metadata": {},
   "outputs": [],
   "source": [
    "import numpy as np\n",
    "import matplotlib.pyplot as plt\n",
    "import pandas as pd \n",
    "\n",
    "def safelog(x):\n",
    "    return (np.log(x + 1e-100))"
   ]
  },
  {
   "cell_type": "code",
   "execution_count": 130,
   "metadata": {},
   "outputs": [],
   "source": [
    "data_set = np.genfromtxt(\"images.csv\", delimiter = \",\")\n",
    "labels = np.genfromtxt(\"labels.csv\").astype(int)"
   ]
  },
  {
   "cell_type": "code",
   "execution_count": 131,
   "metadata": {},
   "outputs": [],
   "source": [
    "x_train = data_set[:500]\n",
    "x_test = data_set[500:]\n",
    "\n",
    "y_train = labels[:500]\n",
    "y_test = labels[500:]"
   ]
  },
  {
   "cell_type": "code",
   "execution_count": 132,
   "metadata": {},
   "outputs": [],
   "source": [
    "eta = 0.0001\n",
    "epsilon = 1e-3\n",
    "max_iteration = 500"
   ]
  },
  {
   "cell_type": "code",
   "execution_count": 133,
   "metadata": {},
   "outputs": [],
   "source": [
    "K = np.max(y_train)\n",
    "N = x_train.shape[0]"
   ]
  },
  {
   "cell_type": "code",
   "execution_count": 134,
   "metadata": {},
   "outputs": [],
   "source": [
    "zeros = np.zeros((N,K)).astype(int)\n",
    "zeros[range(N),(y_train-1)] = 1\n",
    "y_train = zeros"
   ]
  },
  {
   "cell_type": "code",
   "execution_count": 135,
   "metadata": {},
   "outputs": [],
   "source": [
    "zeros = np.zeros((N,K)).astype(int)\n",
    "zeros[range(N),(y_test-1)] = 1\n",
    "y_test = zeros"
   ]
  },
  {
   "cell_type": "code",
   "execution_count": 144,
   "metadata": {},
   "outputs": [],
   "source": [
    "def sigmoid(X, w, w0):\n",
    "    return(1 / (1 + np.exp(-(np.matmul(X, w) + w0))))"
   ]
  },
  {
   "cell_type": "code",
   "execution_count": 145,
   "metadata": {},
   "outputs": [],
   "source": [
    "def gradient_W(X, Y_truth, Y_predicted):\n",
    "    return(np.asarray([-np.sum(np.repeat((Y_truth[:,c] - Y_predicted[:,c]).reshape(-1,1), X.shape[1], axis = 1) * X, axis = 0) for c in range(K)]).transpose())\n",
    "\n",
    "def gradient_w0(Y_truth, Y_predicted):\n",
    "    return(-np.sum(Y_truth*(1 - y_predicted), axis = 0))"
   ]
  },
  {
   "cell_type": "code",
   "execution_count": 146,
   "metadata": {},
   "outputs": [],
   "source": [
    "W = np.genfromtxt(\"initial_W.csv\", delimiter = \",\")\n",
    "w0 = np.genfromtxt(\"initial_w0.csv\", delimiter = \",\")"
   ]
  },
  {
   "cell_type": "code",
   "execution_count": 147,
   "metadata": {
    "scrolled": false
   },
   "outputs": [],
   "source": [
    "iteration = 1\n",
    "objective_values = []\n",
    "while 1:\n",
    "    y_predicted = sigmoid(x_train, W, w0)\n",
    "    objective_values = np.append(objective_values, -np.sum(y_train * safelog(y_predicted)))\n",
    "    \n",
    "    W_old = W\n",
    "    w0_old = w0\n",
    "\n",
    "    W = W - eta * gradient_W(x_train, y_train, y_predicted)\n",
    "    w0 = w0 - eta * gradient_w0(y_train, y_predicted)\n",
    "\n",
    "    if np.sqrt(np.sum((w0 - w0_old)**2) + np.sum((W - W_old)**2)) < epsilon or iteration >= max_iteration:\n",
    "        break\n",
    "\n",
    "    iteration = iteration + 1"
   ]
  },
  {
   "cell_type": "code",
   "execution_count": 148,
   "metadata": {},
   "outputs": [
    {
     "data": {
      "image/png": "[encoded data removed]",
      "text/plain": [
       "<Figure size 720x432 with 1 Axes>"
      ]
     },
     "metadata": {
      "needs_background": "light"
     },
     "output_type": "display_data"
    }
   ],
   "source": [
    "# plot objective function during iterations\n",
    "plt.figure(figsize = (10, 6))\n",
    "plt.plot(range(1, iteration + 1), objective_values, \"k-\")\n",
    "plt.xlabel(\"Iteration\")\n",
    "plt.ylabel(\"Error\")\n",
    "plt.show()"
   ]
  },
  {
   "cell_type": "code",
   "execution_count": 149,
   "metadata": {},
   "outputs": [
    {
     "name": "stdout",
     "output_type": "stream",
     "text": [
      "y_train    0   1    2    3   4\n",
      "y_pred                        \n",
      "1        100   2    6    0   0\n",
      "2          0  81    0    0   0\n",
      "3          7   3  106    0   1\n",
      "4          0   0    0  100   0\n",
      "5          0   0    0    0  94\n"
     ]
    }
   ],
   "source": [
    "train_prediction_classes = np.argmax(y_predicted, axis = 1) + 1\n",
    "print(pd.crosstab(train_prediction_classes, np.argmax(y_train, axis = 1),rownames = ['y_pred'], colnames = ['y_train']))"
   ]
  },
  {
   "cell_type": "code",
   "execution_count": 150,
   "metadata": {},
   "outputs": [],
   "source": [
    "test_prediction = sigmoid(x_test, W, w0)"
   ]
  },
  {
   "cell_type": "code",
   "execution_count": 151,
   "metadata": {},
   "outputs": [
    {
     "name": "stdout",
     "output_type": "stream",
     "text": [
      "y_test   0   1   2    3   4\n",
      "y_pred                     \n",
      "1       82   1   4    0   2\n",
      "2        0  87   0    0   0\n",
      "3       14   3  99    0   3\n",
      "4        0   0   0  103   1\n",
      "5        3   0   2    0  96\n"
     ]
    }
   ],
   "source": [
    "test_prediction_classes = np.argmax(test_prediction, axis = 1) + 1\n",
    "print(pd.crosstab(test_prediction_classes, np.argmax(y_test, axis = 1),rownames = ['y_pred'], colnames = ['y_test']))"
   ]
  }
 ],
 "metadata": {
  "kernelspec": {
   "display_name": "Python 3",
   "language": "python",
   "name": "python3"
  },
  "language_info": {
   "codemirror_mode": {
    "name": "ipython",
    "version": 3
   },
   "file_extension": ".py",
   "mimetype": "text/x-python",
   "name": "python",
   "nbconvert_exporter": "python",
   "pygments_lexer": "ipython3",
   "version": "3.8.5"
  }
 },
 "nbformat": 4,
 "nbformat_minor": 4
}
